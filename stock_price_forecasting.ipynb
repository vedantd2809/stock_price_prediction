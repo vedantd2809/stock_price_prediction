{
 "cells": [
  {
   "cell_type": "code",
   "execution_count": 4,
   "id": "dbc0c468",
   "metadata": {},
   "outputs": [],
   "source": [
    "import numpy as np # linear algebra\n",
    "import pandas as pd # data processing, CSV file I/O (e.g. pd.read_csv)\n",
    "import pandas_datareader as pdr\n",
    "import matplotlib.pyplot as plt\n",
    "from sklearn.preprocessing import MinMaxScaler\n",
    "import os\n",
    "import pandas_datareader.data as web\n",
    "import pandas_datareader.wb as wb\n",
    "from tiingo import TiingoClient"
   ]
  },
  {
   "cell_type": "code",
   "execution_count": 5,
   "id": "ce157c62",
   "metadata": {},
   "outputs": [],
   "source": [
    "key=(\"#######\")"
   ]
  },
  {
   "cell_type": "code",
   "execution_count": 6,
   "id": "475991a8",
   "metadata": {},
   "outputs": [],
   "source": [
    "df = pdr.get_data_tiingo('AAPL',api_key=key)"
   ]
  },
  {
   "cell_type": "code",
   "execution_count": 8,
   "id": "b301355a",
   "metadata": {},
   "outputs": [],
   "source": [
    "df.to_csv('AAPL.csv')"
   ]
  },
  {
   "cell_type": "code",
   "execution_count": 9,
   "id": "a79fe5c9",
   "metadata": {},
   "outputs": [],
   "source": [
    "df=pd.read_csv('AAPL.csv')"
   ]
  },
  {
   "cell_type": "code",
   "execution_count": 11,
   "id": "d2b600c8",
   "metadata": {},
   "outputs": [
    {
     "data": {
      "text/html": [
       "<div>\n",
       "<style scoped>\n",
       "    .dataframe tbody tr th:only-of-type {\n",
       "        vertical-align: middle;\n",
       "    }\n",
       "\n",
       "    .dataframe tbody tr th {\n",
       "        vertical-align: top;\n",
       "    }\n",
       "\n",
       "    .dataframe thead th {\n",
       "        text-align: right;\n",
       "    }\n",
       "</style>\n",
       "<table border=\"1\" class=\"dataframe\">\n",
       "  <thead>\n",
       "    <tr style=\"text-align: right;\">\n",
       "      <th></th>\n",
       "      <th>symbol</th>\n",
       "      <th>date</th>\n",
       "      <th>close</th>\n",
       "      <th>high</th>\n",
       "      <th>low</th>\n",
       "      <th>open</th>\n",
       "      <th>volume</th>\n",
       "      <th>adjClose</th>\n",
       "      <th>adjHigh</th>\n",
       "      <th>adjLow</th>\n",
       "      <th>adjOpen</th>\n",
       "      <th>adjVolume</th>\n",
       "      <th>divCash</th>\n",
       "      <th>splitFactor</th>\n",
       "    </tr>\n",
       "  </thead>\n",
       "  <tbody>\n",
       "    <tr>\n",
       "      <th>0</th>\n",
       "      <td>AAPL</td>\n",
       "      <td>2016-07-12 00:00:00+00:00</td>\n",
       "      <td>97.42</td>\n",
       "      <td>97.70</td>\n",
       "      <td>97.12</td>\n",
       "      <td>97.17</td>\n",
       "      <td>24167463</td>\n",
       "      <td>22.748880</td>\n",
       "      <td>22.814264</td>\n",
       "      <td>22.678826</td>\n",
       "      <td>22.690502</td>\n",
       "      <td>96669852</td>\n",
       "      <td>0.0</td>\n",
       "      <td>1.0</td>\n",
       "    </tr>\n",
       "    <tr>\n",
       "      <th>1</th>\n",
       "      <td>AAPL</td>\n",
       "      <td>2016-07-13 00:00:00+00:00</td>\n",
       "      <td>96.87</td>\n",
       "      <td>97.67</td>\n",
       "      <td>96.84</td>\n",
       "      <td>97.41</td>\n",
       "      <td>25892171</td>\n",
       "      <td>22.620448</td>\n",
       "      <td>22.807258</td>\n",
       "      <td>22.613442</td>\n",
       "      <td>22.746545</td>\n",
       "      <td>103568684</td>\n",
       "      <td>0.0</td>\n",
       "      <td>1.0</td>\n",
       "    </tr>\n",
       "    <tr>\n",
       "      <th>2</th>\n",
       "      <td>AAPL</td>\n",
       "      <td>2016-07-14 00:00:00+00:00</td>\n",
       "      <td>98.79</td>\n",
       "      <td>98.99</td>\n",
       "      <td>97.32</td>\n",
       "      <td>97.39</td>\n",
       "      <td>38918997</td>\n",
       "      <td>23.068794</td>\n",
       "      <td>23.115496</td>\n",
       "      <td>22.725529</td>\n",
       "      <td>22.741875</td>\n",
       "      <td>155675988</td>\n",
       "      <td>0.0</td>\n",
       "      <td>1.0</td>\n",
       "    </tr>\n",
       "    <tr>\n",
       "      <th>3</th>\n",
       "      <td>AAPL</td>\n",
       "      <td>2016-07-15 00:00:00+00:00</td>\n",
       "      <td>98.78</td>\n",
       "      <td>99.30</td>\n",
       "      <td>98.50</td>\n",
       "      <td>98.92</td>\n",
       "      <td>30136990</td>\n",
       "      <td>23.066458</td>\n",
       "      <td>23.187885</td>\n",
       "      <td>23.001075</td>\n",
       "      <td>23.099150</td>\n",
       "      <td>120547960</td>\n",
       "      <td>0.0</td>\n",
       "      <td>1.0</td>\n",
       "    </tr>\n",
       "    <tr>\n",
       "      <th>4</th>\n",
       "      <td>AAPL</td>\n",
       "      <td>2016-07-18 00:00:00+00:00</td>\n",
       "      <td>99.83</td>\n",
       "      <td>100.13</td>\n",
       "      <td>98.60</td>\n",
       "      <td>98.70</td>\n",
       "      <td>36493867</td>\n",
       "      <td>23.311648</td>\n",
       "      <td>23.381702</td>\n",
       "      <td>23.024426</td>\n",
       "      <td>23.047777</td>\n",
       "      <td>145975468</td>\n",
       "      <td>0.0</td>\n",
       "      <td>1.0</td>\n",
       "    </tr>\n",
       "  </tbody>\n",
       "</table>\n",
       "</div>"
      ],
      "text/plain": [
       "  symbol                       date  close    high    low   open    volume  \\\n",
       "0   AAPL  2016-07-12 00:00:00+00:00  97.42   97.70  97.12  97.17  24167463   \n",
       "1   AAPL  2016-07-13 00:00:00+00:00  96.87   97.67  96.84  97.41  25892171   \n",
       "2   AAPL  2016-07-14 00:00:00+00:00  98.79   98.99  97.32  97.39  38918997   \n",
       "3   AAPL  2016-07-15 00:00:00+00:00  98.78   99.30  98.50  98.92  30136990   \n",
       "4   AAPL  2016-07-18 00:00:00+00:00  99.83  100.13  98.60  98.70  36493867   \n",
       "\n",
       "    adjClose    adjHigh     adjLow    adjOpen  adjVolume  divCash  splitFactor  \n",
       "0  22.748880  22.814264  22.678826  22.690502   96669852      0.0          1.0  \n",
       "1  22.620448  22.807258  22.613442  22.746545  103568684      0.0          1.0  \n",
       "2  23.068794  23.115496  22.725529  22.741875  155675988      0.0          1.0  \n",
       "3  23.066458  23.187885  23.001075  23.099150  120547960      0.0          1.0  \n",
       "4  23.311648  23.381702  23.024426  23.047777  145975468      0.0          1.0  "
      ]
     },
     "execution_count": 11,
     "metadata": {},
     "output_type": "execute_result"
    }
   ],
   "source": [
    "df.head(5)"
   ]
  },
  {
   "cell_type": "code",
   "execution_count": 12,
   "id": "a06cbc3a",
   "metadata": {},
   "outputs": [],
   "source": [
    "df2 = df.reset_index()['close']"
   ]
  },
  {
   "cell_type": "code",
   "execution_count": 17,
   "id": "7b64cd24",
   "metadata": {},
   "outputs": [
    {
     "data": {
      "text/plain": [
       "0        97.42\n",
       "1        96.87\n",
       "2        98.79\n",
       "3        98.78\n",
       "4        99.83\n",
       "         ...  \n",
       "1253    139.96\n",
       "1254    142.02\n",
       "1255    144.57\n",
       "1256    143.24\n",
       "1257    145.11\n",
       "Name: close, Length: 1258, dtype: float64"
      ]
     },
     "execution_count": 17,
     "metadata": {},
     "output_type": "execute_result"
    }
   ],
   "source": [
    "df2"
   ]
  },
  {
   "cell_type": "code",
   "execution_count": 18,
   "id": "f3bd11a6",
   "metadata": {},
   "outputs": [
    {
     "data": {
      "text/plain": [
       "[<matplotlib.lines.Line2D at 0x1c5f4cd5670>]"
      ]
     },
     "execution_count": 18,
     "metadata": {},
     "output_type": "execute_result"
    },
    {
     "data": {
      "image/png": "[encoded data removed]",
      "text/plain": [
       "<Figure size 432x288 with 1 Axes>"
      ]
     },
     "metadata": {
      "needs_background": "light"
     },
     "output_type": "display_data"
    }
   ],
   "source": [
    "plt.plot(df2)"
   ]
  },
  {
   "cell_type": "code",
   "execution_count": 26,
   "id": "64e5e4d6",
   "metadata": {},
   "outputs": [],
   "source": [
    "#for LSTM we are using MinMaxScalar\n",
    "scaler = MinMaxScaler(feature_range=(0,1))\n",
    "df2 = scaler.fit_transform(np.array(df2).reshape(-1,1))"
   ]
  },
  {
   "cell_type": "code",
   "execution_count": 27,
   "id": "41743909",
   "metadata": {},
   "outputs": [
    {
     "data": {
      "text/plain": [
       "array([[0.00183186],\n",
       "       [0.0004885 ],\n",
       "       [0.00517806],\n",
       "       ...,\n",
       "       [0.11699477],\n",
       "       [0.11374628],\n",
       "       [0.11831371]])"
      ]
     },
     "execution_count": 27,
     "metadata": {},
     "output_type": "execute_result"
    }
   ],
   "source": [
    "df2"
   ]
  },
  {
   "cell_type": "code",
   "execution_count": 28,
   "id": "e26a9ffa",
   "metadata": {},
   "outputs": [],
   "source": [
    "training_size=int(len(df2)*0.65)\n",
    "test_size=len(df2)-training_size\n",
    "train_data,test_data=df2[0:training_size,:],df2[training_size:len(df2),:1]"
   ]
  },
  {
   "cell_type": "code",
   "execution_count": 32,
   "id": "b4a1e29c",
   "metadata": {},
   "outputs": [],
   "source": [
    "def create_dataset(dataset,time_step=1):\n",
    "    dataX, dataY = [],[]\n",
    "    for i in range(len(dataset)-time_step-1):\n",
    "        a = dataset[i:(i+time_step),0]\n",
    "        dataX.append(a)\n",
    "        dataY.append(dataset[i+time_step,0])\n",
    "    return np.array(dataX), np.array(dataY)"
   ]
  },
  {
   "cell_type": "code",
   "execution_count": 33,
   "id": "dafd9ee6",
   "metadata": {},
   "outputs": [],
   "source": [
    "time_step = 100\n",
    "X_train,y_train = create_dataset(train_data,time_step)\n",
    "X_test,y_test = create_dataset(test_data,time_step)"
   ]
  },
  {
   "cell_type": "code",
   "execution_count": 38,
   "id": "9d1e7f14",
   "metadata": {},
   "outputs": [
    {
     "name": "stdout",
     "output_type": "stream",
     "text": [
      "(340, 100)\n"
     ]
    }
   ],
   "source": [
    "print(X_test.shape)"
   ]
  },
  {
   "cell_type": "code",
   "execution_count": 37,
   "id": "55597978",
   "metadata": {},
   "outputs": [
    {
     "name": "stdout",
     "output_type": "stream",
     "text": [
      "(716, 100)\n"
     ]
    }
   ],
   "source": [
    "print(X_train.shape)"
   ]
  },
  {
   "cell_type": "code",
   "execution_count": 39,
   "id": "87afc1bc",
   "metadata": {},
   "outputs": [],
   "source": [
    "X_train = X_train.reshape(X_train.shape[0],X_train.shape[1],1)\n",
    "X_test = X_test.reshape(X_test.shape[0],X_test.shape[1],1)"
   ]
  },
  {
   "cell_type": "code",
   "execution_count": 40,
   "id": "a034c0f1",
   "metadata": {},
   "outputs": [],
   "source": [
    "from tensorflow.keras.models import Sequential\n",
    "from tensorflow.keras.layers import Dense,LSTM"
   ]
  },
  {
   "cell_type": "code",
   "execution_count": 42,
   "id": "b6731f3b",
   "metadata": {},
   "outputs": [],
   "source": [
    "model = Sequential()\n",
    "model.add(LSTM(50,return_sequences=True,input_shape=(100,1)))\n",
    "model.add(LSTM(50,return_sequences=True))\n",
    "model.add(LSTM(50))\n",
    "model.add(Dense(1))\n",
    "model.compile(loss='mean_squared_error',optimizer='adam')"
   ]
  },
  {
   "cell_type": "code",
   "execution_count": 43,
   "id": "10a9f935",
   "metadata": {},
   "outputs": [
    {
     "name": "stdout",
     "output_type": "stream",
     "text": [
      "Model: \"sequential_1\"\n",
      "_________________________________________________________________\n",
      "Layer (type)                 Output Shape              Param #   \n",
      "=================================================================\n",
      "lstm (LSTM)                  (None, 100, 50)           10400     \n",
      "_________________________________________________________________\n",
      "lstm_1 (LSTM)                (None, 100, 50)           20200     \n",
      "_________________________________________________________________\n",
      "lstm_2 (LSTM)                (None, 50)                20200     \n",
      "_________________________________________________________________\n",
      "dense (Dense)                (None, 1)                 51        \n",
      "=================================================================\n",
      "Total params: 50,851\n",
      "Trainable params: 50,851\n",
      "Non-trainable params: 0\n",
      "_________________________________________________________________\n"
     ]
    }
   ],
   "source": [
    "model.summary()"
   ]
  },
  {
   "cell_type": "code",
   "execution_count": 44,
   "id": "91c7927c",
   "metadata": {},
   "outputs": [
    {
     "name": "stdout",
     "output_type": "stream",
     "text": [
      "Epoch 1/100\n",
      "12/12 [==============================] - 6s 473ms/step - loss: 0.0104 - val_loss: 0.0415\n",
      "Epoch 2/100\n",
      "12/12 [==============================] - 3s 271ms/step - loss: 0.0024 - val_loss: 0.0258\n",
      "Epoch 3/100\n",
      "12/12 [==============================] - 3s 273ms/step - loss: 0.0012 - val_loss: 0.0259\n",
      "Epoch 4/100\n",
      "12/12 [==============================] - 3s 274ms/step - loss: 6.7954e-04 - val_loss: 0.0198\n",
      "Epoch 5/100\n",
      "12/12 [==============================] - 3s 275ms/step - loss: 4.5292e-04 - val_loss: 0.0194\n",
      "Epoch 6/100\n",
      "12/12 [==============================] - 3s 275ms/step - loss: 4.0686e-04 - val_loss: 0.0194\n",
      "Epoch 7/100\n",
      "12/12 [==============================] - 4s 321ms/step - loss: 3.9327e-04 - val_loss: 0.0188\n",
      "Epoch 8/100\n",
      "12/12 [==============================] - 4s 343ms/step - loss: 3.8702e-04 - val_loss: 0.0182\n",
      "Epoch 9/100\n",
      "12/12 [==============================] - 3s 284ms/step - loss: 3.7166e-04 - val_loss: 0.0178\n",
      "Epoch 10/100\n",
      "12/12 [==============================] - 3s 278ms/step - loss: 3.7625e-04 - val_loss: 0.0178\n",
      "Epoch 11/100\n",
      "12/12 [==============================] - 3s 280ms/step - loss: 3.6253e-04 - val_loss: 0.0173\n",
      "Epoch 12/100\n",
      "12/12 [==============================] - 3s 282ms/step - loss: 3.5174e-04 - val_loss: 0.0173\n",
      "Epoch 13/100\n",
      "12/12 [==============================] - 3s 283ms/step - loss: 3.6525e-04 - val_loss: 0.0169\n",
      "Epoch 14/100\n",
      "12/12 [==============================] - 3s 279ms/step - loss: 3.3324e-04 - val_loss: 0.0164\n",
      "Epoch 15/100\n",
      "12/12 [==============================] - 3s 284ms/step - loss: 3.2053e-04 - val_loss: 0.0158\n",
      "Epoch 16/100\n",
      "12/12 [==============================] - 3s 280ms/step - loss: 3.1494e-04 - val_loss: 0.0155\n",
      "Epoch 17/100\n",
      "12/12 [==============================] - 3s 284ms/step - loss: 2.9901e-04 - val_loss: 0.0154\n",
      "Epoch 18/100\n",
      "12/12 [==============================] - 3s 286ms/step - loss: 2.8568e-04 - val_loss: 0.0153\n",
      "Epoch 19/100\n",
      "12/12 [==============================] - 3s 290ms/step - loss: 2.7749e-04 - val_loss: 0.0146\n",
      "Epoch 20/100\n",
      "12/12 [==============================] - 3s 284ms/step - loss: 2.7210e-04 - val_loss: 0.0143\n",
      "Epoch 21/100\n",
      "12/12 [==============================] - 3s 285ms/step - loss: 2.7274e-04 - val_loss: 0.0139\n",
      "Epoch 22/100\n",
      "12/12 [==============================] - 3s 280ms/step - loss: 2.6030e-04 - val_loss: 0.0142\n",
      "Epoch 23/100\n",
      "12/12 [==============================] - 3s 283ms/step - loss: 2.6943e-04 - val_loss: 0.0133\n",
      "Epoch 24/100\n",
      "12/12 [==============================] - 4s 328ms/step - loss: 2.9102e-04 - val_loss: 0.0131\n",
      "Epoch 25/100\n",
      "12/12 [==============================] - 4s 295ms/step - loss: 2.5968e-04 - val_loss: 0.0131\n",
      "Epoch 26/100\n",
      "12/12 [==============================] - 3s 285ms/step - loss: 2.5039e-04 - val_loss: 0.0126\n",
      "Epoch 27/100\n",
      "12/12 [==============================] - 3s 287ms/step - loss: 2.3131e-04 - val_loss: 0.0124\n",
      "Epoch 28/100\n",
      "12/12 [==============================] - 3s 286ms/step - loss: 2.2655e-04 - val_loss: 0.0126\n",
      "Epoch 29/100\n",
      "12/12 [==============================] - 3s 288ms/step - loss: 2.5363e-04 - val_loss: 0.0119\n",
      "Epoch 30/100\n",
      "12/12 [==============================] - 3s 290ms/step - loss: 2.2362e-04 - val_loss: 0.0118\n",
      "Epoch 31/100\n",
      "12/12 [==============================] - 3s 289ms/step - loss: 2.1913e-04 - val_loss: 0.0116\n",
      "Epoch 32/100\n",
      "12/12 [==============================] - 4s 298ms/step - loss: 2.2224e-04 - val_loss: 0.0115\n",
      "Epoch 33/100\n",
      "12/12 [==============================] - 4s 297ms/step - loss: 2.1341e-04 - val_loss: 0.0112\n",
      "Epoch 34/100\n",
      "12/12 [==============================] - 4s 296ms/step - loss: 2.3176e-04 - val_loss: 0.0111\n",
      "Epoch 35/100\n",
      "12/12 [==============================] - 4s 299ms/step - loss: 2.2111e-04 - val_loss: 0.0108\n",
      "Epoch 36/100\n",
      "12/12 [==============================] - 4s 299ms/step - loss: 2.2230e-04 - val_loss: 0.0106\n",
      "Epoch 37/100\n",
      "12/12 [==============================] - 4s 299ms/step - loss: 2.3479e-04 - val_loss: 0.0104\n",
      "Epoch 38/100\n",
      "12/12 [==============================] - 4s 301ms/step - loss: 2.0194e-04 - val_loss: 0.0102\n",
      "Epoch 39/100\n",
      "12/12 [==============================] - 4s 300ms/step - loss: 2.0552e-04 - val_loss: 0.0100\n",
      "Epoch 40/100\n",
      "12/12 [==============================] - 4s 303ms/step - loss: 2.1290e-04 - val_loss: 0.0098\n",
      "Epoch 41/100\n",
      "12/12 [==============================] - 4s 303ms/step - loss: 1.9612e-04 - val_loss: 0.0098\n",
      "Epoch 42/100\n",
      "12/12 [==============================] - 4s 305ms/step - loss: 1.9597e-04 - val_loss: 0.0096\n",
      "Epoch 43/100\n",
      "12/12 [==============================] - 4s 307ms/step - loss: 2.0079e-04 - val_loss: 0.0095\n",
      "Epoch 44/100\n",
      "12/12 [==============================] - 4s 304ms/step - loss: 2.0714e-04 - val_loss: 0.0094\n",
      "Epoch 45/100\n",
      "12/12 [==============================] - 4s 307ms/step - loss: 2.1771e-04 - val_loss: 0.0101\n",
      "Epoch 46/100\n",
      "12/12 [==============================] - 4s 307ms/step - loss: 2.2816e-04 - val_loss: 0.0091\n",
      "Epoch 47/100\n",
      "12/12 [==============================] - 4s 312ms/step - loss: 1.8869e-04 - val_loss: 0.0091\n",
      "Epoch 48/100\n",
      "12/12 [==============================] - 4s 314ms/step - loss: 1.9152e-04 - val_loss: 0.0090\n",
      "Epoch 49/100\n",
      "12/12 [==============================] - 4s 314ms/step - loss: 2.0917e-04 - val_loss: 0.0089\n",
      "Epoch 50/100\n",
      "12/12 [==============================] - 4s 324ms/step - loss: 2.0997e-04 - val_loss: 0.0089\n",
      "Epoch 51/100\n",
      "12/12 [==============================] - 4s 315ms/step - loss: 1.7532e-04 - val_loss: 0.0089\n",
      "Epoch 52/100\n",
      "12/12 [==============================] - 4s 323ms/step - loss: 1.8444e-04 - val_loss: 0.0087\n",
      "Epoch 53/100\n",
      "12/12 [==============================] - 4s 319ms/step - loss: 1.8042e-04 - val_loss: 0.0091\n",
      "Epoch 54/100\n",
      "12/12 [==============================] - 4s 318ms/step - loss: 1.7442e-04 - val_loss: 0.0089\n",
      "Epoch 55/100\n",
      "12/12 [==============================] - 4s 319ms/step - loss: 1.7405e-04 - val_loss: 0.0087\n",
      "Epoch 56/100\n",
      "12/12 [==============================] - 4s 318ms/step - loss: 1.8413e-04 - val_loss: 0.0088\n",
      "Epoch 57/100\n",
      "12/12 [==============================] - 4s 338ms/step - loss: 1.7398e-04 - val_loss: 0.0084\n",
      "Epoch 58/100\n",
      "12/12 [==============================] - 4s 323ms/step - loss: 1.7160e-04 - val_loss: 0.0082\n",
      "Epoch 59/100\n",
      "12/12 [==============================] - 5s 376ms/step - loss: 2.0164e-04 - val_loss: 0.0084\n",
      "Epoch 60/100\n",
      "12/12 [==============================] - 4s 374ms/step - loss: 1.7673e-04 - val_loss: 0.0082\n",
      "Epoch 61/100\n",
      "12/12 [==============================] - 4s 333ms/step - loss: 1.6756e-04 - val_loss: 0.0082\n",
      "Epoch 62/100\n",
      "12/12 [==============================] - 4s 329ms/step - loss: 1.6508e-04 - val_loss: 0.0081\n",
      "Epoch 63/100\n",
      "12/12 [==============================] - 4s 329ms/step - loss: 1.8132e-04 - val_loss: 0.0080\n",
      "Epoch 64/100\n",
      "12/12 [==============================] - 4s 332ms/step - loss: 1.5825e-04 - val_loss: 0.0081\n",
      "Epoch 65/100\n",
      "12/12 [==============================] - 4s 333ms/step - loss: 1.6346e-04 - val_loss: 0.0080\n",
      "Epoch 66/100\n",
      "12/12 [==============================] - 4s 334ms/step - loss: 1.7330e-04 - val_loss: 0.0085\n",
      "Epoch 67/100\n",
      "12/12 [==============================] - 4s 349ms/step - loss: 2.2615e-04 - val_loss: 0.0077\n",
      "Epoch 68/100\n",
      "12/12 [==============================] - 4s 336ms/step - loss: 2.3274e-04 - val_loss: 0.0074\n",
      "Epoch 69/100\n",
      "12/12 [==============================] - 4s 337ms/step - loss: 1.9315e-04 - val_loss: 0.0074\n",
      "Epoch 70/100\n",
      "12/12 [==============================] - 4s 375ms/step - loss: 2.0495e-04 - val_loss: 0.0073\n",
      "Epoch 71/100\n",
      "12/12 [==============================] - 4s 338ms/step - loss: 1.4803e-04 - val_loss: 0.0075\n",
      "Epoch 72/100\n",
      "12/12 [==============================] - 4s 369ms/step - loss: 1.5158e-04 - val_loss: 0.0075\n",
      "Epoch 73/100\n",
      "12/12 [==============================] - 4s 337ms/step - loss: 1.5896e-04 - val_loss: 0.0074\n",
      "Epoch 74/100\n",
      "12/12 [==============================] - 4s 341ms/step - loss: 1.5401e-04 - val_loss: 0.0074\n",
      "Epoch 75/100\n",
      "12/12 [==============================] - 4s 339ms/step - loss: 1.4489e-04 - val_loss: 0.0074\n",
      "Epoch 76/100\n",
      "12/12 [==============================] - 5s 396ms/step - loss: 1.4215e-04 - val_loss: 0.0075\n",
      "Epoch 77/100\n",
      "12/12 [==============================] - 4s 356ms/step - loss: 1.4676e-04 - val_loss: 0.0073\n",
      "Epoch 78/100\n"
     ]
    },
    {
     "name": "stdout",
     "output_type": "stream",
     "text": [
      "12/12 [==============================] - 4s 348ms/step - loss: 1.5905e-04 - val_loss: 0.0072\n",
      "Epoch 79/100\n",
      "12/12 [==============================] - 4s 338ms/step - loss: 1.7299e-04 - val_loss: 0.0073\n",
      "Epoch 80/100\n",
      "12/12 [==============================] - 4s 364ms/step - loss: 1.6412e-04 - val_loss: 0.0069\n",
      "Epoch 81/100\n",
      "12/12 [==============================] - 4s 355ms/step - loss: 1.3923e-04 - val_loss: 0.0069\n",
      "Epoch 82/100\n",
      "12/12 [==============================] - 4s 346ms/step - loss: 1.3570e-04 - val_loss: 0.0068\n",
      "Epoch 83/100\n",
      "12/12 [==============================] - 4s 347ms/step - loss: 1.3321e-04 - val_loss: 0.0068\n",
      "Epoch 84/100\n",
      "12/12 [==============================] - 4s 349ms/step - loss: 1.3734e-04 - val_loss: 0.0067\n",
      "Epoch 85/100\n",
      "12/12 [==============================] - 4s 366ms/step - loss: 1.3857e-04 - val_loss: 0.0070\n",
      "Epoch 86/100\n",
      "12/12 [==============================] - 4s 362ms/step - loss: 1.4665e-04 - val_loss: 0.0066\n",
      "Epoch 87/100\n",
      "12/12 [==============================] - 4s 350ms/step - loss: 1.3280e-04 - val_loss: 0.0065\n",
      "Epoch 88/100\n",
      "12/12 [==============================] - 4s 352ms/step - loss: 1.2864e-04 - val_loss: 0.0064\n",
      "Epoch 89/100\n",
      "12/12 [==============================] - 5s 375ms/step - loss: 1.2988e-04 - val_loss: 0.0064\n",
      "Epoch 90/100\n",
      "12/12 [==============================] - 5s 379ms/step - loss: 1.3398e-04 - val_loss: 0.0064\n",
      "Epoch 91/100\n",
      "12/12 [==============================] - 4s 358ms/step - loss: 1.1880e-04 - val_loss: 0.0061\n",
      "Epoch 92/100\n",
      "12/12 [==============================] - 4s 355ms/step - loss: 1.2248e-04 - val_loss: 0.0061\n",
      "Epoch 93/100\n",
      "12/12 [==============================] - 4s 356ms/step - loss: 1.2125e-04 - val_loss: 0.0060\n",
      "Epoch 94/100\n",
      "12/12 [==============================] - 4s 356ms/step - loss: 1.2437e-04 - val_loss: 0.0061\n",
      "Epoch 95/100\n",
      "12/12 [==============================] - 4s 358ms/step - loss: 1.1894e-04 - val_loss: 0.0059\n",
      "Epoch 96/100\n",
      "12/12 [==============================] - 4s 358ms/step - loss: 1.1749e-04 - val_loss: 0.0060\n",
      "Epoch 97/100\n",
      "12/12 [==============================] - 5s 376ms/step - loss: 1.2047e-04 - val_loss: 0.0061\n",
      "Epoch 98/100\n",
      "12/12 [==============================] - 4s 364ms/step - loss: 1.1697e-04 - val_loss: 0.0059\n",
      "Epoch 99/100\n",
      "12/12 [==============================] - 4s 370ms/step - loss: 1.2270e-04 - val_loss: 0.0057\n",
      "Epoch 100/100\n",
      "12/12 [==============================] - 4s 367ms/step - loss: 1.0920e-04 - val_loss: 0.0059\n"
     ]
    },
    {
     "data": {
      "text/plain": [
       "<tensorflow.python.keras.callbacks.History at 0x1c5fdb9b4f0>"
      ]
     },
     "execution_count": 44,
     "metadata": {},
     "output_type": "execute_result"
    }
   ],
   "source": [
    "model.fit(X_train,y_train,validation_data=(X_test,y_test),epochs=100,batch_size=64,verbose=1)"
   ]
  },
  {
   "cell_type": "code",
   "execution_count": 45,
   "id": "9bebd459",
   "metadata": {},
   "outputs": [],
   "source": [
    "train_predict = model.predict(X_train)\n",
    "test_predict = model.predict(X_test)"
   ]
  },
  {
   "cell_type": "code",
   "execution_count": 46,
   "id": "87f97d97",
   "metadata": {},
   "outputs": [],
   "source": [
    "train_predict = scaler.inverse_transform(train_predict)\n",
    "test_predict = scaler.inverse_transform(test_predict)"
   ]
  },
  {
   "cell_type": "code",
   "execution_count": 47,
   "id": "c14d7af6",
   "metadata": {},
   "outputs": [
    {
     "data": {
      "text/plain": [
       "0.010358238983617213"
      ]
     },
     "execution_count": 47,
     "metadata": {},
     "output_type": "execute_result"
    }
   ],
   "source": [
    "import math\n",
    "from sklearn.metrics import mean_squared_error\n",
    "math.sqrt(mean_squared_error(y_train,train_predict))"
   ]
  },
  {
   "cell_type": "code",
   "execution_count": 48,
   "id": "cc9a8f66",
   "metadata": {},
   "outputs": [
    {
     "data": {
      "text/plain": [
       "0.07706641839722576"
      ]
     },
     "execution_count": 48,
     "metadata": {},
     "output_type": "execute_result"
    }
   ],
   "source": [
    "math.sqrt(mean_squared_error(y_test,test_predict))"
   ]
  },
  {
   "cell_type": "code",
   "execution_count": 49,
   "id": "5ab16e06",
   "metadata": {},
   "outputs": [
    {
     "data": {
      "image/png": "[encoded data removed]",
      "text/plain": [
       "<Figure size 432x288 with 1 Axes>"
      ]
     },
     "metadata": {
      "needs_background": "light"
     },
     "output_type": "display_data"
    }
   ],
   "source": [
    "#shift train prediction\n",
    "back = 100\n",
    "trainprpl= np.empty_like(df2)\n",
    "trainprpl[:,:] = np.nan\n",
    "trainprpl[back:len(train_predict)+back,:] = train_predict\n",
    "\n",
    "#shift test prediction\n",
    "testprpl = np.empty_like(df2)\n",
    "testprpl[:,:] = np.nan\n",
    "testprpl[len(train_predict)+(back*2)+1:len(df2)-1,:]=test_predict\n",
    "\n",
    "#plot\n",
    "plt.plot(scaler.inverse_transform(df2))\n",
    "plt.plot(trainprpl)\n",
    "plt.plot(testprpl)\n",
    "plt.show()"
   ]
  },
  {
   "cell_type": "code",
   "execution_count": 52,
   "id": "a77c3fcc",
   "metadata": {},
   "outputs": [
    {
     "data": {
      "text/plain": [
       "441"
      ]
     },
     "execution_count": 52,
     "metadata": {},
     "output_type": "execute_result"
    }
   ],
   "source": [
    "len(test_data)"
   ]
  },
  {
   "cell_type": "code",
   "execution_count": 54,
   "id": "1d5d7b41",
   "metadata": {},
   "outputs": [
    {
     "data": {
      "text/plain": [
       "(1, 100)"
      ]
     },
     "execution_count": 54,
     "metadata": {},
     "output_type": "execute_result"
    }
   ],
   "source": [
    "#taking 100days to predict next day and so on\n",
    "\n",
    "X_input = test_data[341:].reshape(1,-1)\n",
    "X_input.shape"
   ]
  },
  {
   "cell_type": "code",
   "execution_count": 55,
   "id": "a6262326",
   "metadata": {},
   "outputs": [],
   "source": [
    "#converting to list\n",
    "\n",
    "temp_input = list(X_input)\n",
    "temp_input = temp_input[0].tolist()"
   ]
  },
  {
   "cell_type": "code",
   "execution_count": 58,
   "id": "9bab2599",
   "metadata": {},
   "outputs": [
    {
     "name": "stdout",
     "output_type": "stream",
     "text": [
      "0 day input [0.08069953 0.08109032 0.07163793 0.07129598 0.07005032 0.0594011\n",
      " 0.06006057 0.07600997 0.06948854 0.06201456 0.05730057 0.06045137\n",
      " 0.04809242 0.05963314 0.0569342  0.06177031 0.0594988  0.06672854\n",
      " 0.07058766 0.06860925 0.05827756 0.05695862 0.06526306 0.06318695\n",
      " 0.05720287 0.05842411 0.05993845 0.0603781  0.0567388  0.06223438\n",
      " 0.06431049 0.07139368 0.07215085 0.07627864 0.08228714 0.08872307\n",
      " 0.08443652 0.09222803 0.08636608 0.092399   0.09156856 0.09322945\n",
      " 0.08900396 0.08995652 0.08614626 0.09195936 0.09293635 0.09213033\n",
      " 0.09015192 0.08990767 0.08497387 0.08761174 0.07615651 0.07676713\n",
      " 0.0807728  0.08192077 0.07371403 0.0714181  0.06374872 0.06912217\n",
      " 0.07517952 0.0722974  0.06882908 0.06843828 0.07483758 0.07024571\n",
      " 0.07432465 0.07383616 0.07371403 0.06987934 0.06824288 0.06743686\n",
      " 0.069342   0.06562943 0.07136925 0.07139368 0.07344536 0.07439793\n",
      " 0.0719066  0.07493527 0.08258024 0.08052855 0.08177422 0.08577988\n",
      " 0.08253139 0.08702555 0.09112891 0.09044502 0.0897367  0.08900396\n",
      " 0.0930829  0.09686874 0.0984075  0.09916467 0.10573494 0.11076645\n",
      " 0.11699477 0.11374628 0.11831371 0.11463105]\n",
      "0 day output [[0.11733688]]\n",
      "1 day input [0.08109032 0.07163793 0.07129598 0.07005032 0.0594011  0.06006057\n",
      " 0.07600997 0.06948854 0.06201456 0.05730057 0.06045137 0.04809242\n",
      " 0.05963314 0.0569342  0.06177031 0.0594988  0.06672854 0.07058766\n",
      " 0.06860925 0.05827756 0.05695862 0.06526306 0.06318695 0.05720287\n",
      " 0.05842411 0.05993845 0.0603781  0.0567388  0.06223438 0.06431049\n",
      " 0.07139368 0.07215085 0.07627864 0.08228714 0.08872307 0.08443652\n",
      " 0.09222803 0.08636608 0.092399   0.09156856 0.09322945 0.08900396\n",
      " 0.08995652 0.08614626 0.09195936 0.09293635 0.09213033 0.09015192\n",
      " 0.08990767 0.08497387 0.08761174 0.07615651 0.07676713 0.0807728\n",
      " 0.08192077 0.07371403 0.0714181  0.06374872 0.06912217 0.07517952\n",
      " 0.0722974  0.06882908 0.06843828 0.07483758 0.07024571 0.07432465\n",
      " 0.07383616 0.07371403 0.06987934 0.06824288 0.06743686 0.069342\n",
      " 0.06562943 0.07136925 0.07139368 0.07344536 0.07439793 0.0719066\n",
      " 0.07493527 0.08258024 0.08052855 0.08177422 0.08577988 0.08253139\n",
      " 0.08702555 0.09112891 0.09044502 0.0897367  0.08900396 0.0930829\n",
      " 0.09686874 0.0984075  0.09916467 0.10573494 0.11076645 0.11699477\n",
      " 0.11374628 0.11831371 0.11463105 0.11733688]\n",
      "1 day output [[0.11926384]]\n",
      "2 day input [0.07163793 0.07129598 0.07005032 0.0594011  0.06006057 0.07600997\n",
      " 0.06948854 0.06201456 0.05730057 0.06045137 0.04809242 0.05963314\n",
      " 0.0569342  0.06177031 0.0594988  0.06672854 0.07058766 0.06860925\n",
      " 0.05827756 0.05695862 0.06526306 0.06318695 0.05720287 0.05842411\n",
      " 0.05993845 0.0603781  0.0567388  0.06223438 0.06431049 0.07139368\n",
      " 0.07215085 0.07627864 0.08228714 0.08872307 0.08443652 0.09222803\n",
      " 0.08636608 0.092399   0.09156856 0.09322945 0.08900396 0.08995652\n",
      " 0.08614626 0.09195936 0.09293635 0.09213033 0.09015192 0.08990767\n",
      " 0.08497387 0.08761174 0.07615651 0.07676713 0.0807728  0.08192077\n",
      " 0.07371403 0.0714181  0.06374872 0.06912217 0.07517952 0.0722974\n",
      " 0.06882908 0.06843828 0.07483758 0.07024571 0.07432465 0.07383616\n",
      " 0.07371403 0.06987934 0.06824288 0.06743686 0.069342   0.06562943\n",
      " 0.07136925 0.07139368 0.07344536 0.07439793 0.0719066  0.07493527\n",
      " 0.08258024 0.08052855 0.08177422 0.08577988 0.08253139 0.08702555\n",
      " 0.09112891 0.09044502 0.0897367  0.08900396 0.0930829  0.09686874\n",
      " 0.0984075  0.09916467 0.10573494 0.11076645 0.11699477 0.11374628\n",
      " 0.11831371 0.11463105 0.11733688 0.11926384]\n",
      "2 day output [[0.1206909]]\n",
      "3 day input [0.07129598 0.07005032 0.0594011  0.06006057 0.07600997 0.06948854\n",
      " 0.06201456 0.05730057 0.06045137 0.04809242 0.05963314 0.0569342\n",
      " 0.06177031 0.0594988  0.06672854 0.07058766 0.06860925 0.05827756\n",
      " 0.05695862 0.06526306 0.06318695 0.05720287 0.05842411 0.05993845\n",
      " 0.0603781  0.0567388  0.06223438 0.06431049 0.07139368 0.07215085\n",
      " 0.07627864 0.08228714 0.08872307 0.08443652 0.09222803 0.08636608\n",
      " 0.092399   0.09156856 0.09322945 0.08900396 0.08995652 0.08614626\n",
      " 0.09195936 0.09293635 0.09213033 0.09015192 0.08990767 0.08497387\n",
      " 0.08761174 0.07615651 0.07676713 0.0807728  0.08192077 0.07371403\n",
      " 0.0714181  0.06374872 0.06912217 0.07517952 0.0722974  0.06882908\n",
      " 0.06843828 0.07483758 0.07024571 0.07432465 0.07383616 0.07371403\n",
      " 0.06987934 0.06824288 0.06743686 0.069342   0.06562943 0.07136925\n",
      " 0.07139368 0.07344536 0.07439793 0.0719066  0.07493527 0.08258024\n",
      " 0.08052855 0.08177422 0.08577988 0.08253139 0.08702555 0.09112891\n",
      " 0.09044502 0.0897367  0.08900396 0.0930829  0.09686874 0.0984075\n",
      " 0.09916467 0.10573494 0.11076645 0.11699477 0.11374628 0.11831371\n",
      " 0.11463105 0.11733688 0.11926384 0.1206909 ]\n",
      "3 day output [[0.12185409]]\n",
      "4 day input [0.07005032 0.0594011  0.06006057 0.07600997 0.06948854 0.06201456\n",
      " 0.05730057 0.06045137 0.04809242 0.05963314 0.0569342  0.06177031\n",
      " 0.0594988  0.06672854 0.07058766 0.06860925 0.05827756 0.05695862\n",
      " 0.06526306 0.06318695 0.05720287 0.05842411 0.05993845 0.0603781\n",
      " 0.0567388  0.06223438 0.06431049 0.07139368 0.07215085 0.07627864\n",
      " 0.08228714 0.08872307 0.08443652 0.09222803 0.08636608 0.092399\n",
      " 0.09156856 0.09322945 0.08900396 0.08995652 0.08614626 0.09195936\n",
      " 0.09293635 0.09213033 0.09015192 0.08990767 0.08497387 0.08761174\n",
      " 0.07615651 0.07676713 0.0807728  0.08192077 0.07371403 0.0714181\n",
      " 0.06374872 0.06912217 0.07517952 0.0722974  0.06882908 0.06843828\n",
      " 0.07483758 0.07024571 0.07432465 0.07383616 0.07371403 0.06987934\n",
      " 0.06824288 0.06743686 0.069342   0.06562943 0.07136925 0.07139368\n",
      " 0.07344536 0.07439793 0.0719066  0.07493527 0.08258024 0.08052855\n",
      " 0.08177422 0.08577988 0.08253139 0.08702555 0.09112891 0.09044502\n",
      " 0.0897367  0.08900396 0.0930829  0.09686874 0.0984075  0.09916467\n",
      " 0.10573494 0.11076645 0.11699477 0.11374628 0.11831371 0.11463105\n",
      " 0.11733688 0.11926384 0.1206909  0.12185409]\n",
      "4 day output [[0.1229019]]\n",
      "5 day input [0.0594011  0.06006057 0.07600997 0.06948854 0.06201456 0.05730057\n",
      " 0.06045137 0.04809242 0.05963314 0.0569342  0.06177031 0.0594988\n",
      " 0.06672854 0.07058766 0.06860925 0.05827756 0.05695862 0.06526306\n",
      " 0.06318695 0.05720287 0.05842411 0.05993845 0.0603781  0.0567388\n",
      " 0.06223438 0.06431049 0.07139368 0.07215085 0.07627864 0.08228714\n",
      " 0.08872307 0.08443652 0.09222803 0.08636608 0.092399   0.09156856\n",
      " 0.09322945 0.08900396 0.08995652 0.08614626 0.09195936 0.09293635\n",
      " 0.09213033 0.09015192 0.08990767 0.08497387 0.08761174 0.07615651\n",
      " 0.07676713 0.0807728  0.08192077 0.07371403 0.0714181  0.06374872\n",
      " 0.06912217 0.07517952 0.0722974  0.06882908 0.06843828 0.07483758\n",
      " 0.07024571 0.07432465 0.07383616 0.07371403 0.06987934 0.06824288\n",
      " 0.06743686 0.069342   0.06562943 0.07136925 0.07139368 0.07344536\n",
      " 0.07439793 0.0719066  0.07493527 0.08258024 0.08052855 0.08177422\n",
      " 0.08577988 0.08253139 0.08702555 0.09112891 0.09044502 0.0897367\n",
      " 0.08900396 0.0930829  0.09686874 0.0984075  0.09916467 0.10573494\n",
      " 0.11076645 0.11699477 0.11374628 0.11831371 0.11463105 0.11733688\n",
      " 0.11926384 0.1206909  0.12185409 0.1229019 ]\n",
      "5 day output [[0.12391269]]\n",
      "6 day input [0.06006057 0.07600997 0.06948854 0.06201456 0.05730057 0.06045137\n",
      " 0.04809242 0.05963314 0.0569342  0.06177031 0.0594988  0.06672854\n",
      " 0.07058766 0.06860925 0.05827756 0.05695862 0.06526306 0.06318695\n",
      " 0.05720287 0.05842411 0.05993845 0.0603781  0.0567388  0.06223438\n",
      " 0.06431049 0.07139368 0.07215085 0.07627864 0.08228714 0.08872307\n",
      " 0.08443652 0.09222803 0.08636608 0.092399   0.09156856 0.09322945\n",
      " 0.08900396 0.08995652 0.08614626 0.09195936 0.09293635 0.09213033\n",
      " 0.09015192 0.08990767 0.08497387 0.08761174 0.07615651 0.07676713\n",
      " 0.0807728  0.08192077 0.07371403 0.0714181  0.06374872 0.06912217\n",
      " 0.07517952 0.0722974  0.06882908 0.06843828 0.07483758 0.07024571\n",
      " 0.07432465 0.07383616 0.07371403 0.06987934 0.06824288 0.06743686\n",
      " 0.069342   0.06562943 0.07136925 0.07139368 0.07344536 0.07439793\n",
      " 0.0719066  0.07493527 0.08258024 0.08052855 0.08177422 0.08577988\n",
      " 0.08253139 0.08702555 0.09112891 0.09044502 0.0897367  0.08900396\n",
      " 0.0930829  0.09686874 0.0984075  0.09916467 0.10573494 0.11076645\n",
      " 0.11699477 0.11374628 0.11831371 0.11463105 0.11733688 0.11926384\n",
      " 0.1206909  0.12185409 0.1229019  0.12391269]\n",
      "6 day output [[0.12492259]]\n",
      "7 day input [0.07600997 0.06948854 0.06201456 0.05730057 0.06045137 0.04809242\n",
      " 0.05963314 0.0569342  0.06177031 0.0594988  0.06672854 0.07058766\n",
      " 0.06860925 0.05827756 0.05695862 0.06526306 0.06318695 0.05720287\n",
      " 0.05842411 0.05993845 0.0603781  0.0567388  0.06223438 0.06431049\n",
      " 0.07139368 0.07215085 0.07627864 0.08228714 0.08872307 0.08443652\n",
      " 0.09222803 0.08636608 0.092399   0.09156856 0.09322945 0.08900396\n",
      " 0.08995652 0.08614626 0.09195936 0.09293635 0.09213033 0.09015192\n",
      " 0.08990767 0.08497387 0.08761174 0.07615651 0.07676713 0.0807728\n",
      " 0.08192077 0.07371403 0.0714181  0.06374872 0.06912217 0.07517952\n",
      " 0.0722974  0.06882908 0.06843828 0.07483758 0.07024571 0.07432465\n",
      " 0.07383616 0.07371403 0.06987934 0.06824288 0.06743686 0.069342\n",
      " 0.06562943 0.07136925 0.07139368 0.07344536 0.07439793 0.0719066\n",
      " 0.07493527 0.08258024 0.08052855 0.08177422 0.08577988 0.08253139\n",
      " 0.08702555 0.09112891 0.09044502 0.0897367  0.08900396 0.0930829\n",
      " 0.09686874 0.0984075  0.09916467 0.10573494 0.11076645 0.11699477\n",
      " 0.11374628 0.11831371 0.11463105 0.11733688 0.11926384 0.1206909\n",
      " 0.12185409 0.1229019  0.12391269 0.12492259]\n"
     ]
    },
    {
     "name": "stdout",
     "output_type": "stream",
     "text": [
      "7 day output [[0.12594655]]\n",
      "8 day input [0.06948854 0.06201456 0.05730057 0.06045137 0.04809242 0.05963314\n",
      " 0.0569342  0.06177031 0.0594988  0.06672854 0.07058766 0.06860925\n",
      " 0.05827756 0.05695862 0.06526306 0.06318695 0.05720287 0.05842411\n",
      " 0.05993845 0.0603781  0.0567388  0.06223438 0.06431049 0.07139368\n",
      " 0.07215085 0.07627864 0.08228714 0.08872307 0.08443652 0.09222803\n",
      " 0.08636608 0.092399   0.09156856 0.09322945 0.08900396 0.08995652\n",
      " 0.08614626 0.09195936 0.09293635 0.09213033 0.09015192 0.08990767\n",
      " 0.08497387 0.08761174 0.07615651 0.07676713 0.0807728  0.08192077\n",
      " 0.07371403 0.0714181  0.06374872 0.06912217 0.07517952 0.0722974\n",
      " 0.06882908 0.06843828 0.07483758 0.07024571 0.07432465 0.07383616\n",
      " 0.07371403 0.06987934 0.06824288 0.06743686 0.069342   0.06562943\n",
      " 0.07136925 0.07139368 0.07344536 0.07439793 0.0719066  0.07493527\n",
      " 0.08258024 0.08052855 0.08177422 0.08577988 0.08253139 0.08702555\n",
      " 0.09112891 0.09044502 0.0897367  0.08900396 0.0930829  0.09686874\n",
      " 0.0984075  0.09916467 0.10573494 0.11076645 0.11699477 0.11374628\n",
      " 0.11831371 0.11463105 0.11733688 0.11926384 0.1206909  0.12185409\n",
      " 0.1229019  0.12391269 0.12492259 0.12594655]\n",
      "8 day output [[0.12699044]]\n",
      "9 day input [0.06201456 0.05730057 0.06045137 0.04809242 0.05963314 0.0569342\n",
      " 0.06177031 0.0594988  0.06672854 0.07058766 0.06860925 0.05827756\n",
      " 0.05695862 0.06526306 0.06318695 0.05720287 0.05842411 0.05993845\n",
      " 0.0603781  0.0567388  0.06223438 0.06431049 0.07139368 0.07215085\n",
      " 0.07627864 0.08228714 0.08872307 0.08443652 0.09222803 0.08636608\n",
      " 0.092399   0.09156856 0.09322945 0.08900396 0.08995652 0.08614626\n",
      " 0.09195936 0.09293635 0.09213033 0.09015192 0.08990767 0.08497387\n",
      " 0.08761174 0.07615651 0.07676713 0.0807728  0.08192077 0.07371403\n",
      " 0.0714181  0.06374872 0.06912217 0.07517952 0.0722974  0.06882908\n",
      " 0.06843828 0.07483758 0.07024571 0.07432465 0.07383616 0.07371403\n",
      " 0.06987934 0.06824288 0.06743686 0.069342   0.06562943 0.07136925\n",
      " 0.07139368 0.07344536 0.07439793 0.0719066  0.07493527 0.08258024\n",
      " 0.08052855 0.08177422 0.08577988 0.08253139 0.08702555 0.09112891\n",
      " 0.09044502 0.0897367  0.08900396 0.0930829  0.09686874 0.0984075\n",
      " 0.09916467 0.10573494 0.11076645 0.11699477 0.11374628 0.11831371\n",
      " 0.11463105 0.11733688 0.11926384 0.1206909  0.12185409 0.1229019\n",
      " 0.12391269 0.12492259 0.12594655 0.12699044]\n",
      "9 day output [[0.12805644]]\n",
      "10 day input [0.05730057 0.06045137 0.04809242 0.05963314 0.0569342  0.06177031\n",
      " 0.0594988  0.06672854 0.07058766 0.06860925 0.05827756 0.05695862\n",
      " 0.06526306 0.06318695 0.05720287 0.05842411 0.05993845 0.0603781\n",
      " 0.0567388  0.06223438 0.06431049 0.07139368 0.07215085 0.07627864\n",
      " 0.08228714 0.08872307 0.08443652 0.09222803 0.08636608 0.092399\n",
      " 0.09156856 0.09322945 0.08900396 0.08995652 0.08614626 0.09195936\n",
      " 0.09293635 0.09213033 0.09015192 0.08990767 0.08497387 0.08761174\n",
      " 0.07615651 0.07676713 0.0807728  0.08192077 0.07371403 0.0714181\n",
      " 0.06374872 0.06912217 0.07517952 0.0722974  0.06882908 0.06843828\n",
      " 0.07483758 0.07024571 0.07432465 0.07383616 0.07371403 0.06987934\n",
      " 0.06824288 0.06743686 0.069342   0.06562943 0.07136925 0.07139368\n",
      " 0.07344536 0.07439793 0.0719066  0.07493527 0.08258024 0.08052855\n",
      " 0.08177422 0.08577988 0.08253139 0.08702555 0.09112891 0.09044502\n",
      " 0.0897367  0.08900396 0.0930829  0.09686874 0.0984075  0.09916467\n",
      " 0.10573494 0.11076645 0.11699477 0.11374628 0.11831371 0.11463105\n",
      " 0.11733688 0.11926384 0.1206909  0.12185409 0.1229019  0.12391269\n",
      " 0.12492259 0.12594655 0.12699044 0.12805644]\n",
      "10 day output [[0.12914525]]\n",
      "11 day input [0.06045137 0.04809242 0.05963314 0.0569342  0.06177031 0.0594988\n",
      " 0.06672854 0.07058766 0.06860925 0.05827756 0.05695862 0.06526306\n",
      " 0.06318695 0.05720287 0.05842411 0.05993845 0.0603781  0.0567388\n",
      " 0.06223438 0.06431049 0.07139368 0.07215085 0.07627864 0.08228714\n",
      " 0.08872307 0.08443652 0.09222803 0.08636608 0.092399   0.09156856\n",
      " 0.09322945 0.08900396 0.08995652 0.08614626 0.09195936 0.09293635\n",
      " 0.09213033 0.09015192 0.08990767 0.08497387 0.08761174 0.07615651\n",
      " 0.07676713 0.0807728  0.08192077 0.07371403 0.0714181  0.06374872\n",
      " 0.06912217 0.07517952 0.0722974  0.06882908 0.06843828 0.07483758\n",
      " 0.07024571 0.07432465 0.07383616 0.07371403 0.06987934 0.06824288\n",
      " 0.06743686 0.069342   0.06562943 0.07136925 0.07139368 0.07344536\n",
      " 0.07439793 0.0719066  0.07493527 0.08258024 0.08052855 0.08177422\n",
      " 0.08577988 0.08253139 0.08702555 0.09112891 0.09044502 0.0897367\n",
      " 0.08900396 0.0930829  0.09686874 0.0984075  0.09916467 0.10573494\n",
      " 0.11076645 0.11699477 0.11374628 0.11831371 0.11463105 0.11733688\n",
      " 0.11926384 0.1206909  0.12185409 0.1229019  0.12391269 0.12492259\n",
      " 0.12594655 0.12699044 0.12805644 0.12914525]\n",
      "11 day output [[0.13025643]]\n",
      "12 day input [0.04809242 0.05963314 0.0569342  0.06177031 0.0594988  0.06672854\n",
      " 0.07058766 0.06860925 0.05827756 0.05695862 0.06526306 0.06318695\n",
      " 0.05720287 0.05842411 0.05993845 0.0603781  0.0567388  0.06223438\n",
      " 0.06431049 0.07139368 0.07215085 0.07627864 0.08228714 0.08872307\n",
      " 0.08443652 0.09222803 0.08636608 0.092399   0.09156856 0.09322945\n",
      " 0.08900396 0.08995652 0.08614626 0.09195936 0.09293635 0.09213033\n",
      " 0.09015192 0.08990767 0.08497387 0.08761174 0.07615651 0.07676713\n",
      " 0.0807728  0.08192077 0.07371403 0.0714181  0.06374872 0.06912217\n",
      " 0.07517952 0.0722974  0.06882908 0.06843828 0.07483758 0.07024571\n",
      " 0.07432465 0.07383616 0.07371403 0.06987934 0.06824288 0.06743686\n",
      " 0.069342   0.06562943 0.07136925 0.07139368 0.07344536 0.07439793\n",
      " 0.0719066  0.07493527 0.08258024 0.08052855 0.08177422 0.08577988\n",
      " 0.08253139 0.08702555 0.09112891 0.09044502 0.0897367  0.08900396\n",
      " 0.0930829  0.09686874 0.0984075  0.09916467 0.10573494 0.11076645\n",
      " 0.11699477 0.11374628 0.11831371 0.11463105 0.11733688 0.11926384\n",
      " 0.1206909  0.12185409 0.1229019  0.12391269 0.12492259 0.12594655\n",
      " 0.12699044 0.12805644 0.12914525 0.13025643]\n",
      "12 day output [[0.1313887]]\n",
      "13 day input [0.05963314 0.0569342  0.06177031 0.0594988  0.06672854 0.07058766\n",
      " 0.06860925 0.05827756 0.05695862 0.06526306 0.06318695 0.05720287\n",
      " 0.05842411 0.05993845 0.0603781  0.0567388  0.06223438 0.06431049\n",
      " 0.07139368 0.07215085 0.07627864 0.08228714 0.08872307 0.08443652\n",
      " 0.09222803 0.08636608 0.092399   0.09156856 0.09322945 0.08900396\n",
      " 0.08995652 0.08614626 0.09195936 0.09293635 0.09213033 0.09015192\n",
      " 0.08990767 0.08497387 0.08761174 0.07615651 0.07676713 0.0807728\n",
      " 0.08192077 0.07371403 0.0714181  0.06374872 0.06912217 0.07517952\n",
      " 0.0722974  0.06882908 0.06843828 0.07483758 0.07024571 0.07432465\n",
      " 0.07383616 0.07371403 0.06987934 0.06824288 0.06743686 0.069342\n",
      " 0.06562943 0.07136925 0.07139368 0.07344536 0.07439793 0.0719066\n",
      " 0.07493527 0.08258024 0.08052855 0.08177422 0.08577988 0.08253139\n",
      " 0.08702555 0.09112891 0.09044502 0.0897367  0.08900396 0.0930829\n",
      " 0.09686874 0.0984075  0.09916467 0.10573494 0.11076645 0.11699477\n",
      " 0.11374628 0.11831371 0.11463105 0.11733688 0.11926384 0.1206909\n",
      " 0.12185409 0.1229019  0.12391269 0.12492259 0.12594655 0.12699044\n",
      " 0.12805644 0.12914525 0.13025643 0.13138869]\n",
      "13 day output [[0.13253993]]\n",
      "14 day input [0.0569342  0.06177031 0.0594988  0.06672854 0.07058766 0.06860925\n",
      " 0.05827756 0.05695862 0.06526306 0.06318695 0.05720287 0.05842411\n",
      " 0.05993845 0.0603781  0.0567388  0.06223438 0.06431049 0.07139368\n",
      " 0.07215085 0.07627864 0.08228714 0.08872307 0.08443652 0.09222803\n",
      " 0.08636608 0.092399   0.09156856 0.09322945 0.08900396 0.08995652\n",
      " 0.08614626 0.09195936 0.09293635 0.09213033 0.09015192 0.08990767\n",
      " 0.08497387 0.08761174 0.07615651 0.07676713 0.0807728  0.08192077\n",
      " 0.07371403 0.0714181  0.06374872 0.06912217 0.07517952 0.0722974\n",
      " 0.06882908 0.06843828 0.07483758 0.07024571 0.07432465 0.07383616\n",
      " 0.07371403 0.06987934 0.06824288 0.06743686 0.069342   0.06562943\n",
      " 0.07136925 0.07139368 0.07344536 0.07439793 0.0719066  0.07493527\n",
      " 0.08258024 0.08052855 0.08177422 0.08577988 0.08253139 0.08702555\n",
      " 0.09112891 0.09044502 0.0897367  0.08900396 0.0930829  0.09686874\n",
      " 0.0984075  0.09916467 0.10573494 0.11076645 0.11699477 0.11374628\n",
      " 0.11831371 0.11463105 0.11733688 0.11926384 0.1206909  0.12185409\n",
      " 0.1229019  0.12391269 0.12492259 0.12594655 0.12699044 0.12805644\n",
      " 0.12914525 0.13025643 0.13138869 0.13253993]\n",
      "14 day output [[0.13370742]]\n",
      "15 day input [0.06177031 0.0594988  0.06672854 0.07058766 0.06860925 0.05827756\n",
      " 0.05695862 0.06526306 0.06318695 0.05720287 0.05842411 0.05993845\n",
      " 0.0603781  0.0567388  0.06223438 0.06431049 0.07139368 0.07215085\n",
      " 0.07627864 0.08228714 0.08872307 0.08443652 0.09222803 0.08636608\n",
      " 0.092399   0.09156856 0.09322945 0.08900396 0.08995652 0.08614626\n",
      " 0.09195936 0.09293635 0.09213033 0.09015192 0.08990767 0.08497387\n",
      " 0.08761174 0.07615651 0.07676713 0.0807728  0.08192077 0.07371403\n",
      " 0.0714181  0.06374872 0.06912217 0.07517952 0.0722974  0.06882908\n",
      " 0.06843828 0.07483758 0.07024571 0.07432465 0.07383616 0.07371403\n",
      " 0.06987934 0.06824288 0.06743686 0.069342   0.06562943 0.07136925\n",
      " 0.07139368 0.07344536 0.07439793 0.0719066  0.07493527 0.08258024\n",
      " 0.08052855 0.08177422 0.08577988 0.08253139 0.08702555 0.09112891\n",
      " 0.09044502 0.0897367  0.08900396 0.0930829  0.09686874 0.0984075\n",
      " 0.09916467 0.10573494 0.11076645 0.11699477 0.11374628 0.11831371\n",
      " 0.11463105 0.11733688 0.11926384 0.1206909  0.12185409 0.1229019\n",
      " 0.12391269 0.12492259 0.12594655 0.12699044 0.12805644 0.12914525\n",
      " 0.13025643 0.13138869 0.13253993 0.13370742]\n",
      "15 day output [[0.13488819]]\n",
      "16 day input [0.0594988  0.06672854 0.07058766 0.06860925 0.05827756 0.05695862\n",
      " 0.06526306 0.06318695 0.05720287 0.05842411 0.05993845 0.0603781\n",
      " 0.0567388  0.06223438 0.06431049 0.07139368 0.07215085 0.07627864\n",
      " 0.08228714 0.08872307 0.08443652 0.09222803 0.08636608 0.092399\n",
      " 0.09156856 0.09322945 0.08900396 0.08995652 0.08614626 0.09195936\n",
      " 0.09293635 0.09213033 0.09015192 0.08990767 0.08497387 0.08761174\n",
      " 0.07615651 0.07676713 0.0807728  0.08192077 0.07371403 0.0714181\n",
      " 0.06374872 0.06912217 0.07517952 0.0722974  0.06882908 0.06843828\n",
      " 0.07483758 0.07024571 0.07432465 0.07383616 0.07371403 0.06987934\n",
      " 0.06824288 0.06743686 0.069342   0.06562943 0.07136925 0.07139368\n",
      " 0.07344536 0.07439793 0.0719066  0.07493527 0.08258024 0.08052855\n",
      " 0.08177422 0.08577988 0.08253139 0.08702555 0.09112891 0.09044502\n",
      " 0.0897367  0.08900396 0.0930829  0.09686874 0.0984075  0.09916467\n",
      " 0.10573494 0.11076645 0.11699477 0.11374628 0.11831371 0.11463105\n",
      " 0.11733688 0.11926384 0.1206909  0.12185409 0.1229019  0.12391269\n",
      " 0.12492259 0.12594655 0.12699044 0.12805644 0.12914525 0.13025643\n",
      " 0.13138869 0.13253993 0.13370742 0.13488819]\n"
     ]
    },
    {
     "name": "stdout",
     "output_type": "stream",
     "text": [
      "16 day output [[0.13607904]]\n",
      "17 day input [0.06672854 0.07058766 0.06860925 0.05827756 0.05695862 0.06526306\n",
      " 0.06318695 0.05720287 0.05842411 0.05993845 0.0603781  0.0567388\n",
      " 0.06223438 0.06431049 0.07139368 0.07215085 0.07627864 0.08228714\n",
      " 0.08872307 0.08443652 0.09222803 0.08636608 0.092399   0.09156856\n",
      " 0.09322945 0.08900396 0.08995652 0.08614626 0.09195936 0.09293635\n",
      " 0.09213033 0.09015192 0.08990767 0.08497387 0.08761174 0.07615651\n",
      " 0.07676713 0.0807728  0.08192077 0.07371403 0.0714181  0.06374872\n",
      " 0.06912217 0.07517952 0.0722974  0.06882908 0.06843828 0.07483758\n",
      " 0.07024571 0.07432465 0.07383616 0.07371403 0.06987934 0.06824288\n",
      " 0.06743686 0.069342   0.06562943 0.07136925 0.07139368 0.07344536\n",
      " 0.07439793 0.0719066  0.07493527 0.08258024 0.08052855 0.08177422\n",
      " 0.08577988 0.08253139 0.08702555 0.09112891 0.09044502 0.0897367\n",
      " 0.08900396 0.0930829  0.09686874 0.0984075  0.09916467 0.10573494\n",
      " 0.11076645 0.11699477 0.11374628 0.11831371 0.11463105 0.11733688\n",
      " 0.11926384 0.1206909  0.12185409 0.1229019  0.12391269 0.12492259\n",
      " 0.12594655 0.12699044 0.12805644 0.12914525 0.13025643 0.13138869\n",
      " 0.13253993 0.13370742 0.13488819 0.13607904]\n",
      "17 day output [[0.13727699]]\n",
      "18 day input [0.07058766 0.06860925 0.05827756 0.05695862 0.06526306 0.06318695\n",
      " 0.05720287 0.05842411 0.05993845 0.0603781  0.0567388  0.06223438\n",
      " 0.06431049 0.07139368 0.07215085 0.07627864 0.08228714 0.08872307\n",
      " 0.08443652 0.09222803 0.08636608 0.092399   0.09156856 0.09322945\n",
      " 0.08900396 0.08995652 0.08614626 0.09195936 0.09293635 0.09213033\n",
      " 0.09015192 0.08990767 0.08497387 0.08761174 0.07615651 0.07676713\n",
      " 0.0807728  0.08192077 0.07371403 0.0714181  0.06374872 0.06912217\n",
      " 0.07517952 0.0722974  0.06882908 0.06843828 0.07483758 0.07024571\n",
      " 0.07432465 0.07383616 0.07371403 0.06987934 0.06824288 0.06743686\n",
      " 0.069342   0.06562943 0.07136925 0.07139368 0.07344536 0.07439793\n",
      " 0.0719066  0.07493527 0.08258024 0.08052855 0.08177422 0.08577988\n",
      " 0.08253139 0.08702555 0.09112891 0.09044502 0.0897367  0.08900396\n",
      " 0.0930829  0.09686874 0.0984075  0.09916467 0.10573494 0.11076645\n",
      " 0.11699477 0.11374628 0.11831371 0.11463105 0.11733688 0.11926384\n",
      " 0.1206909  0.12185409 0.1229019  0.12391269 0.12492259 0.12594655\n",
      " 0.12699044 0.12805644 0.12914525 0.13025643 0.13138869 0.13253993\n",
      " 0.13370742 0.13488819 0.13607904 0.13727699]\n",
      "18 day output [[0.13847923]]\n",
      "19 day input [0.06860925 0.05827756 0.05695862 0.06526306 0.06318695 0.05720287\n",
      " 0.05842411 0.05993845 0.0603781  0.0567388  0.06223438 0.06431049\n",
      " 0.07139368 0.07215085 0.07627864 0.08228714 0.08872307 0.08443652\n",
      " 0.09222803 0.08636608 0.092399   0.09156856 0.09322945 0.08900396\n",
      " 0.08995652 0.08614626 0.09195936 0.09293635 0.09213033 0.09015192\n",
      " 0.08990767 0.08497387 0.08761174 0.07615651 0.07676713 0.0807728\n",
      " 0.08192077 0.07371403 0.0714181  0.06374872 0.06912217 0.07517952\n",
      " 0.0722974  0.06882908 0.06843828 0.07483758 0.07024571 0.07432465\n",
      " 0.07383616 0.07371403 0.06987934 0.06824288 0.06743686 0.069342\n",
      " 0.06562943 0.07136925 0.07139368 0.07344536 0.07439793 0.0719066\n",
      " 0.07493527 0.08258024 0.08052855 0.08177422 0.08577988 0.08253139\n",
      " 0.08702555 0.09112891 0.09044502 0.0897367  0.08900396 0.0930829\n",
      " 0.09686874 0.0984075  0.09916467 0.10573494 0.11076645 0.11699477\n",
      " 0.11374628 0.11831371 0.11463105 0.11733688 0.11926384 0.1206909\n",
      " 0.12185409 0.1229019  0.12391269 0.12492259 0.12594655 0.12699044\n",
      " 0.12805644 0.12914525 0.13025643 0.13138869 0.13253993 0.13370742\n",
      " 0.13488819 0.13607904 0.13727699 0.13847923]\n",
      "19 day output [[0.13968341]]\n",
      "20 day input [0.05827756 0.05695862 0.06526306 0.06318695 0.05720287 0.05842411\n",
      " 0.05993845 0.0603781  0.0567388  0.06223438 0.06431049 0.07139368\n",
      " 0.07215085 0.07627864 0.08228714 0.08872307 0.08443652 0.09222803\n",
      " 0.08636608 0.092399   0.09156856 0.09322945 0.08900396 0.08995652\n",
      " 0.08614626 0.09195936 0.09293635 0.09213033 0.09015192 0.08990767\n",
      " 0.08497387 0.08761174 0.07615651 0.07676713 0.0807728  0.08192077\n",
      " 0.07371403 0.0714181  0.06374872 0.06912217 0.07517952 0.0722974\n",
      " 0.06882908 0.06843828 0.07483758 0.07024571 0.07432465 0.07383616\n",
      " 0.07371403 0.06987934 0.06824288 0.06743686 0.069342   0.06562943\n",
      " 0.07136925 0.07139368 0.07344536 0.07439793 0.0719066  0.07493527\n",
      " 0.08258024 0.08052855 0.08177422 0.08577988 0.08253139 0.08702555\n",
      " 0.09112891 0.09044502 0.0897367  0.08900396 0.0930829  0.09686874\n",
      " 0.0984075  0.09916467 0.10573494 0.11076645 0.11699477 0.11374628\n",
      " 0.11831371 0.11463105 0.11733688 0.11926384 0.1206909  0.12185409\n",
      " 0.1229019  0.12391269 0.12492259 0.12594655 0.12699044 0.12805644\n",
      " 0.12914525 0.13025643 0.13138869 0.13253993 0.13370742 0.13488819\n",
      " 0.13607904 0.13727699 0.13847923 0.13968341]\n",
      "20 day output [[0.14088754]]\n",
      "21 day input [0.05695862 0.06526306 0.06318695 0.05720287 0.05842411 0.05993845\n",
      " 0.0603781  0.0567388  0.06223438 0.06431049 0.07139368 0.07215085\n",
      " 0.07627864 0.08228714 0.08872307 0.08443652 0.09222803 0.08636608\n",
      " 0.092399   0.09156856 0.09322945 0.08900396 0.08995652 0.08614626\n",
      " 0.09195936 0.09293635 0.09213033 0.09015192 0.08990767 0.08497387\n",
      " 0.08761174 0.07615651 0.07676713 0.0807728  0.08192077 0.07371403\n",
      " 0.0714181  0.06374872 0.06912217 0.07517952 0.0722974  0.06882908\n",
      " 0.06843828 0.07483758 0.07024571 0.07432465 0.07383616 0.07371403\n",
      " 0.06987934 0.06824288 0.06743686 0.069342   0.06562943 0.07136925\n",
      " 0.07139368 0.07344536 0.07439793 0.0719066  0.07493527 0.08258024\n",
      " 0.08052855 0.08177422 0.08577988 0.08253139 0.08702555 0.09112891\n",
      " 0.09044502 0.0897367  0.08900396 0.0930829  0.09686874 0.0984075\n",
      " 0.09916467 0.10573494 0.11076645 0.11699477 0.11374628 0.11831371\n",
      " 0.11463105 0.11733688 0.11926384 0.1206909  0.12185409 0.1229019\n",
      " 0.12391269 0.12492259 0.12594655 0.12699044 0.12805644 0.12914525\n",
      " 0.13025643 0.13138869 0.13253993 0.13370742 0.13488819 0.13607904\n",
      " 0.13727699 0.13847923 0.13968341 0.14088754]\n",
      "21 day output [[0.14209016]]\n",
      "22 day input [0.06526306 0.06318695 0.05720287 0.05842411 0.05993845 0.0603781\n",
      " 0.0567388  0.06223438 0.06431049 0.07139368 0.07215085 0.07627864\n",
      " 0.08228714 0.08872307 0.08443652 0.09222803 0.08636608 0.092399\n",
      " 0.09156856 0.09322945 0.08900396 0.08995652 0.08614626 0.09195936\n",
      " 0.09293635 0.09213033 0.09015192 0.08990767 0.08497387 0.08761174\n",
      " 0.07615651 0.07676713 0.0807728  0.08192077 0.07371403 0.0714181\n",
      " 0.06374872 0.06912217 0.07517952 0.0722974  0.06882908 0.06843828\n",
      " 0.07483758 0.07024571 0.07432465 0.07383616 0.07371403 0.06987934\n",
      " 0.06824288 0.06743686 0.069342   0.06562943 0.07136925 0.07139368\n",
      " 0.07344536 0.07439793 0.0719066  0.07493527 0.08258024 0.08052855\n",
      " 0.08177422 0.08577988 0.08253139 0.08702555 0.09112891 0.09044502\n",
      " 0.0897367  0.08900396 0.0930829  0.09686874 0.0984075  0.09916467\n",
      " 0.10573494 0.11076645 0.11699477 0.11374628 0.11831371 0.11463105\n",
      " 0.11733688 0.11926384 0.1206909  0.12185409 0.1229019  0.12391269\n",
      " 0.12492259 0.12594655 0.12699044 0.12805644 0.12914525 0.13025643\n",
      " 0.13138869 0.13253993 0.13370742 0.13488819 0.13607904 0.13727699\n",
      " 0.13847923 0.13968341 0.14088754 0.14209016]\n",
      "22 day output [[0.14329018]]\n",
      "23 day input [0.06318695 0.05720287 0.05842411 0.05993845 0.0603781  0.0567388\n",
      " 0.06223438 0.06431049 0.07139368 0.07215085 0.07627864 0.08228714\n",
      " 0.08872307 0.08443652 0.09222803 0.08636608 0.092399   0.09156856\n",
      " 0.09322945 0.08900396 0.08995652 0.08614626 0.09195936 0.09293635\n",
      " 0.09213033 0.09015192 0.08990767 0.08497387 0.08761174 0.07615651\n",
      " 0.07676713 0.0807728  0.08192077 0.07371403 0.0714181  0.06374872\n",
      " 0.06912217 0.07517952 0.0722974  0.06882908 0.06843828 0.07483758\n",
      " 0.07024571 0.07432465 0.07383616 0.07371403 0.06987934 0.06824288\n",
      " 0.06743686 0.069342   0.06562943 0.07136925 0.07139368 0.07344536\n",
      " 0.07439793 0.0719066  0.07493527 0.08258024 0.08052855 0.08177422\n",
      " 0.08577988 0.08253139 0.08702555 0.09112891 0.09044502 0.0897367\n",
      " 0.08900396 0.0930829  0.09686874 0.0984075  0.09916467 0.10573494\n",
      " 0.11076645 0.11699477 0.11374628 0.11831371 0.11463105 0.11733688\n",
      " 0.11926384 0.1206909  0.12185409 0.1229019  0.12391269 0.12492259\n",
      " 0.12594655 0.12699044 0.12805644 0.12914525 0.13025643 0.13138869\n",
      " 0.13253993 0.13370742 0.13488819 0.13607904 0.13727699 0.13847923\n",
      " 0.13968341 0.14088754 0.14209016 0.14329018]\n",
      "23 day output [[0.14448695]]\n",
      "24 day input [0.05720287 0.05842411 0.05993845 0.0603781  0.0567388  0.06223438\n",
      " 0.06431049 0.07139368 0.07215085 0.07627864 0.08228714 0.08872307\n",
      " 0.08443652 0.09222803 0.08636608 0.092399   0.09156856 0.09322945\n",
      " 0.08900396 0.08995652 0.08614626 0.09195936 0.09293635 0.09213033\n",
      " 0.09015192 0.08990767 0.08497387 0.08761174 0.07615651 0.07676713\n",
      " 0.0807728  0.08192077 0.07371403 0.0714181  0.06374872 0.06912217\n",
      " 0.07517952 0.0722974  0.06882908 0.06843828 0.07483758 0.07024571\n",
      " 0.07432465 0.07383616 0.07371403 0.06987934 0.06824288 0.06743686\n",
      " 0.069342   0.06562943 0.07136925 0.07139368 0.07344536 0.07439793\n",
      " 0.0719066  0.07493527 0.08258024 0.08052855 0.08177422 0.08577988\n",
      " 0.08253139 0.08702555 0.09112891 0.09044502 0.0897367  0.08900396\n",
      " 0.0930829  0.09686874 0.0984075  0.09916467 0.10573494 0.11076645\n",
      " 0.11699477 0.11374628 0.11831371 0.11463105 0.11733688 0.11926384\n",
      " 0.1206909  0.12185409 0.1229019  0.12391269 0.12492259 0.12594655\n",
      " 0.12699044 0.12805644 0.12914525 0.13025643 0.13138869 0.13253993\n",
      " 0.13370742 0.13488819 0.13607904 0.13727699 0.13847923 0.13968341\n",
      " 0.14088754 0.14209016 0.14329018 0.14448695]\n"
     ]
    },
    {
     "name": "stdout",
     "output_type": "stream",
     "text": [
      "24 day output [[0.1456802]]\n",
      "25 day input [0.05842411 0.05993845 0.0603781  0.0567388  0.06223438 0.06431049\n",
      " 0.07139368 0.07215085 0.07627864 0.08228714 0.08872307 0.08443652\n",
      " 0.09222803 0.08636608 0.092399   0.09156856 0.09322945 0.08900396\n",
      " 0.08995652 0.08614626 0.09195936 0.09293635 0.09213033 0.09015192\n",
      " 0.08990767 0.08497387 0.08761174 0.07615651 0.07676713 0.0807728\n",
      " 0.08192077 0.07371403 0.0714181  0.06374872 0.06912217 0.07517952\n",
      " 0.0722974  0.06882908 0.06843828 0.07483758 0.07024571 0.07432465\n",
      " 0.07383616 0.07371403 0.06987934 0.06824288 0.06743686 0.069342\n",
      " 0.06562943 0.07136925 0.07139368 0.07344536 0.07439793 0.0719066\n",
      " 0.07493527 0.08258024 0.08052855 0.08177422 0.08577988 0.08253139\n",
      " 0.08702555 0.09112891 0.09044502 0.0897367  0.08900396 0.0930829\n",
      " 0.09686874 0.0984075  0.09916467 0.10573494 0.11076645 0.11699477\n",
      " 0.11374628 0.11831371 0.11463105 0.11733688 0.11926384 0.1206909\n",
      " 0.12185409 0.1229019  0.12391269 0.12492259 0.12594655 0.12699044\n",
      " 0.12805644 0.12914525 0.13025643 0.13138869 0.13253993 0.13370742\n",
      " 0.13488819 0.13607904 0.13727699 0.13847923 0.13968341 0.14088754\n",
      " 0.14209016 0.14329018 0.14448695 0.1456802 ]\n",
      "25 day output [[0.14686985]]\n",
      "26 day input [0.05993845 0.0603781  0.0567388  0.06223438 0.06431049 0.07139368\n",
      " 0.07215085 0.07627864 0.08228714 0.08872307 0.08443652 0.09222803\n",
      " 0.08636608 0.092399   0.09156856 0.09322945 0.08900396 0.08995652\n",
      " 0.08614626 0.09195936 0.09293635 0.09213033 0.09015192 0.08990767\n",
      " 0.08497387 0.08761174 0.07615651 0.07676713 0.0807728  0.08192077\n",
      " 0.07371403 0.0714181  0.06374872 0.06912217 0.07517952 0.0722974\n",
      " 0.06882908 0.06843828 0.07483758 0.07024571 0.07432465 0.07383616\n",
      " 0.07371403 0.06987934 0.06824288 0.06743686 0.069342   0.06562943\n",
      " 0.07136925 0.07139368 0.07344536 0.07439793 0.0719066  0.07493527\n",
      " 0.08258024 0.08052855 0.08177422 0.08577988 0.08253139 0.08702555\n",
      " 0.09112891 0.09044502 0.0897367  0.08900396 0.0930829  0.09686874\n",
      " 0.0984075  0.09916467 0.10573494 0.11076645 0.11699477 0.11374628\n",
      " 0.11831371 0.11463105 0.11733688 0.11926384 0.1206909  0.12185409\n",
      " 0.1229019  0.12391269 0.12492259 0.12594655 0.12699044 0.12805644\n",
      " 0.12914525 0.13025643 0.13138869 0.13253993 0.13370742 0.13488819\n",
      " 0.13607904 0.13727699 0.13847923 0.13968341 0.14088754 0.14209016\n",
      " 0.14329018 0.14448695 0.1456802  0.14686985]\n",
      "26 day output [[0.14805616]]\n",
      "27 day input [0.0603781  0.0567388  0.06223438 0.06431049 0.07139368 0.07215085\n",
      " 0.07627864 0.08228714 0.08872307 0.08443652 0.09222803 0.08636608\n",
      " 0.092399   0.09156856 0.09322945 0.08900396 0.08995652 0.08614626\n",
      " 0.09195936 0.09293635 0.09213033 0.09015192 0.08990767 0.08497387\n",
      " 0.08761174 0.07615651 0.07676713 0.0807728  0.08192077 0.07371403\n",
      " 0.0714181  0.06374872 0.06912217 0.07517952 0.0722974  0.06882908\n",
      " 0.06843828 0.07483758 0.07024571 0.07432465 0.07383616 0.07371403\n",
      " 0.06987934 0.06824288 0.06743686 0.069342   0.06562943 0.07136925\n",
      " 0.07139368 0.07344536 0.07439793 0.0719066  0.07493527 0.08258024\n",
      " 0.08052855 0.08177422 0.08577988 0.08253139 0.08702555 0.09112891\n",
      " 0.09044502 0.0897367  0.08900396 0.0930829  0.09686874 0.0984075\n",
      " 0.09916467 0.10573494 0.11076645 0.11699477 0.11374628 0.11831371\n",
      " 0.11463105 0.11733688 0.11926384 0.1206909  0.12185409 0.1229019\n",
      " 0.12391269 0.12492259 0.12594655 0.12699044 0.12805644 0.12914525\n",
      " 0.13025643 0.13138869 0.13253993 0.13370742 0.13488819 0.13607904\n",
      " 0.13727699 0.13847923 0.13968341 0.14088754 0.14209016 0.14329018\n",
      " 0.14448695 0.1456802  0.14686985 0.14805616]\n",
      "27 day output [[0.14923953]]\n",
      "28 day input [0.0567388  0.06223438 0.06431049 0.07139368 0.07215085 0.07627864\n",
      " 0.08228714 0.08872307 0.08443652 0.09222803 0.08636608 0.092399\n",
      " 0.09156856 0.09322945 0.08900396 0.08995652 0.08614626 0.09195936\n",
      " 0.09293635 0.09213033 0.09015192 0.08990767 0.08497387 0.08761174\n",
      " 0.07615651 0.07676713 0.0807728  0.08192077 0.07371403 0.0714181\n",
      " 0.06374872 0.06912217 0.07517952 0.0722974  0.06882908 0.06843828\n",
      " 0.07483758 0.07024571 0.07432465 0.07383616 0.07371403 0.06987934\n",
      " 0.06824288 0.06743686 0.069342   0.06562943 0.07136925 0.07139368\n",
      " 0.07344536 0.07439793 0.0719066  0.07493527 0.08258024 0.08052855\n",
      " 0.08177422 0.08577988 0.08253139 0.08702555 0.09112891 0.09044502\n",
      " 0.0897367  0.08900396 0.0930829  0.09686874 0.0984075  0.09916467\n",
      " 0.10573494 0.11076645 0.11699477 0.11374628 0.11831371 0.11463105\n",
      " 0.11733688 0.11926384 0.1206909  0.12185409 0.1229019  0.12391269\n",
      " 0.12492259 0.12594655 0.12699044 0.12805644 0.12914525 0.13025643\n",
      " 0.13138869 0.13253993 0.13370742 0.13488819 0.13607904 0.13727699\n",
      " 0.13847923 0.13968341 0.14088754 0.14209016 0.14329018 0.14448695\n",
      " 0.1456802  0.14686985 0.14805616 0.14923953]\n",
      "28 day output [[0.1504204]]\n",
      "29 day input [0.06223438 0.06431049 0.07139368 0.07215085 0.07627864 0.08228714\n",
      " 0.08872307 0.08443652 0.09222803 0.08636608 0.092399   0.09156856\n",
      " 0.09322945 0.08900396 0.08995652 0.08614626 0.09195936 0.09293635\n",
      " 0.09213033 0.09015192 0.08990767 0.08497387 0.08761174 0.07615651\n",
      " 0.07676713 0.0807728  0.08192077 0.07371403 0.0714181  0.06374872\n",
      " 0.06912217 0.07517952 0.0722974  0.06882908 0.06843828 0.07483758\n",
      " 0.07024571 0.07432465 0.07383616 0.07371403 0.06987934 0.06824288\n",
      " 0.06743686 0.069342   0.06562943 0.07136925 0.07139368 0.07344536\n",
      " 0.07439793 0.0719066  0.07493527 0.08258024 0.08052855 0.08177422\n",
      " 0.08577988 0.08253139 0.08702555 0.09112891 0.09044502 0.0897367\n",
      " 0.08900396 0.0930829  0.09686874 0.0984075  0.09916467 0.10573494\n",
      " 0.11076645 0.11699477 0.11374628 0.11831371 0.11463105 0.11733688\n",
      " 0.11926384 0.1206909  0.12185409 0.1229019  0.12391269 0.12492259\n",
      " 0.12594655 0.12699044 0.12805644 0.12914525 0.13025643 0.13138869\n",
      " 0.13253993 0.13370742 0.13488819 0.13607904 0.13727699 0.13847923\n",
      " 0.13968341 0.14088754 0.14209016 0.14329018 0.14448695 0.1456802\n",
      " 0.14686985 0.14805616 0.14923953 0.1504204 ]\n",
      "29 day output [[0.15159933]]\n",
      "[[0.11733688414096832], [0.11926383525133133], [0.12069089710712433], [0.12185408920049667], [0.12290190160274506], [0.12391269207000732], [0.12492258846759796], [0.1259465515613556], [0.1269904375076294], [0.12805643677711487], [0.12914524972438812], [0.13025642931461334], [0.13138869404792786], [0.13253992795944214], [0.1337074190378189], [0.1348881870508194], [0.13607904314994812], [0.13727699220180511], [0.13847923278808594], [0.13968341052532196], [0.1408875435590744], [0.14209015667438507], [0.143290176987648], [0.1444869488477707], [0.14568020403385162], [0.14686985313892365], [0.14805616438388824], [0.14923952519893646], [0.1504203975200653], [0.15159933269023895]]\n"
     ]
    }
   ],
   "source": [
    "#demonstrate 10 days prediction\n",
    "\n",
    "from numpy import array\n",
    "\n",
    "first_op = []\n",
    "n_steps = 100\n",
    "i=0\n",
    "while(i<30):\n",
    "    if(len(temp_input)>100):\n",
    "        X_input=np.array(temp_input[1:])\n",
    "        print(\"{} day input {}\".format(i,X_input))\n",
    "        X_input=X_input.reshape(1,-1)\n",
    "        X_input=X_input.reshape((1,n_steps,1))\n",
    "        yhat=model.predict(X_input,verbose=0)\n",
    "        print(\"{} day output {}\".format(i,yhat))\n",
    "        temp_input.extend(yhat[0].tolist())\n",
    "        temp_input=temp_input[1:]\n",
    "        first_op.extend(yhat.tolist())\n",
    "        i=i+1\n",
    "    else:\n",
    "        X_input=X_input.reshape((1,n_steps,1))\n",
    "        yhat=model.predict(X_input,verbose=0)\n",
    "        temp_input.extend(yhat[0].tolist())\n",
    "        first_op.extend(yhat.tolist())\n",
    "        i=i+1\n",
    "        \n",
    "print(first_op)"
   ]
  },
  {
   "cell_type": "code",
   "execution_count": 64,
   "id": "8e5b3afc",
   "metadata": {},
   "outputs": [],
   "source": [
    "day_new=np.arange(1,101)\n",
    "day_pred=np.arange(101,131)"
   ]
  },
  {
   "cell_type": "code",
   "execution_count": 65,
   "id": "0399d3b9",
   "metadata": {},
   "outputs": [],
   "source": [
    "df3=df2.tolist()\n",
    "df3.extend(first_op)"
   ]
  },
  {
   "cell_type": "code",
   "execution_count": 66,
   "id": "f3ccdab4",
   "metadata": {},
   "outputs": [
    {
     "data": {
      "text/plain": [
       "[<matplotlib.lines.Line2D at 0x1c61b0c6790>]"
      ]
     },
     "execution_count": 66,
     "metadata": {},
     "output_type": "execute_result"
    },
    {
     "data": {
      "image/png": "[encoded data removed]",
      "text/plain": [
       "<Figure size 432x288 with 1 Axes>"
      ]
     },
     "metadata": {
      "needs_background": "light"
     },
     "output_type": "display_data"
    }
   ],
   "source": [
    "plt.plot(day_new,scaler.inverse_transform(df2[1158:]))\n",
    "plt.plot(day_pred,scaler.inverse_transform(first_op))"
   ]
  },
  {
   "cell_type": "code",
   "execution_count": 68,
   "id": "4b598d62",
   "metadata": {},
   "outputs": [
    {
     "data": {
      "text/plain": [
       "[<matplotlib.lines.Line2D at 0x1c61c5c1550>]"
      ]
     },
     "execution_count": 68,
     "metadata": {},
     "output_type": "execute_result"
    },
    {
     "data": {
      "image/png": "[encoded data removed]",
      "text/plain": [
       "<Figure size 432x288 with 1 Axes>"
      ]
     },
     "metadata": {
      "needs_background": "light"
     },
     "output_type": "display_data"
    }
   ],
   "source": [
    "df3=df2.tolist()\n",
    "df3.extend(first_op)\n",
    "plt.plot(df3[1200:])"
   ]
  },
  {
   "cell_type": "code",
   "execution_count": null,
   "id": "435f03b4",
   "metadata": {},
   "outputs": [],
   "source": []
  },
  {
   "cell_type": "code",
   "execution_count": null,
   "id": "08f3bafe",
   "metadata": {},
   "outputs": [],
   "source": []
  },
  {
   "cell_type": "code",
   "execution_count": null,
   "id": "710913a3",
   "metadata": {},
   "outputs": [],
   "source": []
  },
  {
   "cell_type": "code",
   "execution_count": null,
   "id": "85c5c102",
   "metadata": {},
   "outputs": [],
   "source": []
  }
 ],
 "metadata": {
  "kernelspec": {
   "display_name": "Python 3",
   "language": "python",
   "name": "python3"
  },
  "language_info": {
   "codemirror_mode": {
    "name": "ipython",
    "version": 3
   },
   "file_extension": ".py",
   "mimetype": "text/x-python",
   "name": "python",
   "nbconvert_exporter": "python",
   "pygments_lexer": "ipython3",
   "version": "3.8.10"
  }
 },
 "nbformat": 4,
 "nbformat_minor": 5
}
